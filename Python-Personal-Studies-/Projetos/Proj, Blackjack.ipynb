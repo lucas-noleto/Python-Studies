{
 "cells": [
  {
   "cell_type": "code",
   "execution_count": 45,
   "metadata": {},
   "outputs": [
    {
     "ename": "SyntaxError",
     "evalue": "Missing parentheses in call to 'print'. Did you mean print(self.dinheiro)? (<ipython-input-45-d4116c70c7bb>, line 55)",
     "output_type": "error",
     "traceback": [
      "\u001b[1;36m  File \u001b[1;32m\"<ipython-input-45-d4116c70c7bb>\"\u001b[1;36m, line \u001b[1;32m55\u001b[0m\n\u001b[1;33m    print self.dinheiro\u001b[0m\n\u001b[1;37m             ^\u001b[0m\n\u001b[1;31mSyntaxError\u001b[0m\u001b[1;31m:\u001b[0m Missing parentheses in call to 'print'. Did you mean print(self.dinheiro)?\n"
     ]
    }
   ],
   "source": [
    "import random\n",
    "glob = False\n",
    "#d = {'VENEZUELA':'CARACAS', 'CANADA':'OTTAWA'}\n",
    "#x=random.choice(list(d))\n",
    "#d[x]\n",
    "\n",
    "#class Baralho(object):\n",
    "   \n",
    "#    def mostrar_cartas(self):\n",
    "#        x=random.choice(list(self.cartas))\n",
    "#        return x\n",
    "\n",
    "class Dealer(object):\n",
    "    def __init__(self):\n",
    "        self.cartas = {\"2 Espadas\":2,\"3 Espadas\":3,\"4 Espadas\":4,\"5 Espadas\":5,\"6 Espadas \":6,\"7 Espadas\":7,\"8 Espadas\":8,\"9 Espadas\":9,\"10 Espadas\":10,\"Valete Espadas\":10,\"Rainha Espadas\":10,\"Rei Espadas \":10,\n",
    "                       \"2 Copas\":2,\"3 Copas\":3,\"4 Copas\":4,\"5 Copas\":5,\"6 Copas \":6,\"7 Copas\":7,\"8 Copas\":8,\"9 Copas\":9,\"10 Copas\":10,\"Valete Copas\":10,\"Rainha Copas\":10,\"Rei Copas\":10,\n",
    "                       \"2 Ouro\":2,\"3 Ouro\":3,\"4 Ouro\":4,\"5 Ouro\":5,\"6 Ouro \":6,\"7 Ouro\":7,\"8 Ouro\":8,\"9 Ouro\":9,\"10 Ouro\":10,\"Valete Ouro\":10,\"Rainha Ouro\":10,\"Rei Ouro \":10,\n",
    "                       \"2 Paus\":2,\"3 Paus\":3,\"4 Paus\":4,\"5 Paus\":5,\"6 Paus \":6,\"7 Paus\":7,\"8 Paus\":8,\"9 Paus\":9,\"10 Paus\":10,\"Valete Paus\":10,\"Rainha Paus\":10,\"Rei Paus \":10,\n",
    "                       }\n",
    "         \n",
    "    def mao_dealer(self):\n",
    "        key = random.choice(list(self.cartas))\n",
    "        value = self.cartas[key]\n",
    "        aux = {key : value}\n",
    "        self.dm = {}\n",
    "        self.dm.update(aux)\n",
    "        del self.cartas[key]\n",
    "        return self.dm\n",
    "        \n",
    "    def distribuir_cartas(self,player):\n",
    "        key = random.choice(list(self.cartas))\n",
    "        value = self.cartas[key]\n",
    "        #key, value = random.choice(list(self.cartas()))\n",
    "        aux = {key : value}\n",
    "        player.m.update(aux)\n",
    "        del self.cartas[key]\n",
    "        \n",
    "    def dealer_mao(self):\n",
    "        key = random.choice(list(self.cartas))\n",
    "        value = self.cartas[key]\n",
    " \n",
    "    def mostrar_baralho(self):\n",
    "        return list(self.cartas)\n",
    "    \n",
    "    def mostrar_mao(self):\n",
    "        return list(self.dm)\n",
    "\n",
    "class Player():\n",
    "    def __init__(self,quantia):\n",
    "        self.m = {}\n",
    "        self.dinheiro = quantia \n",
    "    def mostrar(self):\n",
    "        return list(self.m)\n",
    "    def mostrar_d(self):\n",
    "        print self.dinheiro\n",
    "    \n",
    "class Pote():\n",
    "    def __init__(self):\n",
    "        self.amount = 0\n",
    "    def entrar(self,player):\n",
    "        player.dinheiro -= 10\n",
    "        self.amount +=10\n",
    "    def display(self):\n",
    "        print (\"Pote acumulado: \" + str(self.amount))\n",
    "    def apostar(self,player,valor):\n",
    "        player.dinheiro -= valor\n",
    "        self.amount +=valor\n",
    "    def vitoria(self,player):\n",
    "        player.dinheiro +=self.amount\n",
    "        sel.amount -= self.amount\n",
    "        \n",
    "def teste(player):\n",
    "    aux = 0\n",
    "    aux = sum(player.m.values())\n",
    "    if self.aux >= 22:\n",
    "        print(\"Fim de jogo, você perdeu\")\n",
    "    if self.aux <= 20:\n",
    "        print(\"Quer mais cartas?\")\n",
    "    if self.aux == 21:\n",
    "        print(\"Você ganhou!\")\n",
    "\n",
    "def encerrar_jogo():\n",
    "    global glob\n",
    "    glob = True\n",
    "\n",
    "\n",
    "\n",
    "def decisao():\n",
    "    decisao = False\n",
    "    while not passa:\n",
    "    decisao = input(\"Hit me or Stand? \")\n",
    "        if decisao == \"Hit\":\n",
    "            jose.distribuir_cartas(lucas)\n",
    "            lucas.mostrar()\n",
    "            aposta=input(\"Quanto você deseja apostar?\")\n",
    "            oti.apostar(lucas,aposta)\n",
    "        if decisao == \"Stand\":\n",
    "            teste(lucas)\n",
    "            decisao = True\n",
    "            \n",
    "def main():\n",
    "    quantia = int(input(\"Quanto você tem para apostar? \"))\n",
    "    jose = Dealer()\n",
    "    oti = Pote()\n",
    "    lucas=Player(quantia)\n",
    "    while not glob:\n",
    "        entrar = input(\"Entrar na mesa? S/N \")\n",
    "        if entrar  == \"S\":\n",
    "            oti.entrar(lucas)\n",
    "            jose.distribuir_cartas(lucas)\n",
    "            jose.distribuir_cartas(lucas)\n",
    "            lucas.mostrar()\n",
    "            jose.mao_dealer()\n",
    "            aposta=input(\"Quanto você deseja apostar?\")\n",
    "            oti.apostar(lucas,aposta)\n",
    "            decisao()\n",
    "            teste(lucas)\n",
    "            lucas.mostrar_d()\n",
    "            \n",
    "        else:\n",
    "            Print(\"Vai se lascar\")\n",
    "            \n",
    "    "
   ]
  },
  {
   "cell_type": "code",
   "execution_count": 43,
   "metadata": {},
   "outputs": [
    {
     "ename": "IndentationError",
     "evalue": "expected an indented block (<ipython-input-43-8166648bbf5c>, line 5)",
     "output_type": "error",
     "traceback": [
      "\u001b[1;36m  File \u001b[1;32m\"<ipython-input-43-8166648bbf5c>\"\u001b[1;36m, line \u001b[1;32m5\u001b[0m\n\u001b[1;33m    quantia = input(\"Quanto você tem para apostar? \")\u001b[0m\n\u001b[1;37m          ^\u001b[0m\n\u001b[1;31mIndentationError\u001b[0m\u001b[1;31m:\u001b[0m expected an indented block\n"
     ]
    }
   ],
   "source": [
    "while not glob:\n",
    "\n",
    "#new = Baralho()\n",
    "#new.mostrar_cartas()\n",
    "quantia = input(\"Quanto você tem para apostar? \")\n",
    "jose = Dealer()\n",
    "oti = Pote()\n",
    "lucas=Player(quantia)\n",
    "lucas.dinheiro\n",
    "\n",
    "\n",
    "\n",
    "\n",
    "#\n",
    "\n",
    "\n",
    "\n",
    "#lucas = Player(jose.distribuir_cartas())\n",
    "#lucas.receber(jose.distribuir_cartas())\n",
    "#lucas.mostrar()\n",
    "\n"
   ]
  },
  {
   "cell_type": "code",
   "execution_count": 3,
   "metadata": {},
   "outputs": [
    {
     "name": "stdout",
     "output_type": "stream",
     "text": [
      "Quer mais cartas?\n"
     ]
    }
   ],
   "source": [
    "omega = Teste()\n",
    "omega.testar(lucas)\n",
    "        "
   ]
  },
  {
   "cell_type": "code",
   "execution_count": 4,
   "metadata": {
    "scrolled": false
   },
   "outputs": [],
   "source": [
    "jose.distribuir_cartas(lucas)\n"
   ]
  },
  {
   "cell_type": "code",
   "execution_count": 5,
   "metadata": {},
   "outputs": [
    {
     "name": "stdout",
     "output_type": "stream",
     "text": [
      "Fim de jogo, você perdeu\n"
     ]
    }
   ],
   "source": [
    "omega.testar(lucas)"
   ]
  },
  {
   "cell_type": "code",
   "execution_count": null,
   "metadata": {},
   "outputs": [],
   "source": [
    "dec = input('Hit or Stand?')\n",
    "lucas.mostrar()\n",
    "if dec == \"Hit\":  \n",
    "    #jose.distribuir_cartas(lucas)\n",
    "    lucas.mostrar()\n",
    "if dec ==  \"Stand\":\n",
    "    print (\"fim de jogo\")"
   ]
  },
  {
   "cell_type": "code",
   "execution_count": null,
   "metadata": {},
   "outputs": [],
   "source": [
    "lucas.mostrar()\n"
   ]
  },
  {
   "cell_type": "code",
   "execution_count": 31,
   "metadata": {},
   "outputs": [],
   "source": [
    "end = Fim()\n",
    "end.encerrar_jogo()"
   ]
  },
  {
   "cell_type": "code",
   "execution_count": 41,
   "metadata": {},
   "outputs": [
    {
     "name": "stdout",
     "output_type": "stream",
     "text": [
      "Quanto você tem para apostar? 122\n",
      "Quanto você tem para apostar? 122\n"
     ]
    },
    {
     "data": {
      "text/plain": [
       "'122'"
      ]
     },
     "execution_count": 41,
     "metadata": {},
     "output_type": "execute_result"
    }
   ],
   "source": [
    "quantia = input(\"Quanto você tem para apostar? \")\n",
    "jose = Dealer()\n",
    "oti = Pote()\n",
    "lucas=Player(quantia = input(\"Quanto você tem para apostar? \"))\n",
    "lucas.dinheiro\n",
    "           \n",
    "    "
   ]
  }
 ],
 "metadata": {
  "kernelspec": {
   "display_name": "Python 3",
   "language": "python",
   "name": "python3"
  },
  "language_info": {
   "codemirror_mode": {
    "name": "ipython",
    "version": 3
   },
   "file_extension": ".py",
   "mimetype": "text/x-python",
   "name": "python",
   "nbconvert_exporter": "python",
   "pygments_lexer": "ipython3",
   "version": "3.7.0"
  }
 },
 "nbformat": 4,
 "nbformat_minor": 2
}
